{
 "cells": [
  {
   "cell_type": "code",
   "execution_count": 1,
   "id": "8ebe4398",
   "metadata": {
    "execution": {
     "iopub.execute_input": "2024-06-20T14:02:46.543507Z",
     "iopub.status.busy": "2024-06-20T14:02:46.543012Z",
     "iopub.status.idle": "2024-06-20T14:06:00.545834Z",
     "shell.execute_reply": "2024-06-20T14:06:00.543442Z"
    },
    "papermill": {
     "duration": 194.018774,
     "end_time": "2024-06-20T14:06:00.551459",
     "exception": false,
     "start_time": "2024-06-20T14:02:46.532685",
     "status": "completed"
    },
    "tags": []
   },
   "outputs": [],
   "source": [
    "%%capture\n",
    "!pip install -U lightautoml"
   ]
  },
  {
   "cell_type": "code",
   "execution_count": 2,
   "id": "28336e41",
   "metadata": {
    "execution": {
     "iopub.execute_input": "2024-06-20T14:06:00.572835Z",
     "iopub.status.busy": "2024-06-20T14:06:00.572295Z",
     "iopub.status.idle": "2024-06-20T14:06:51.539128Z",
     "shell.execute_reply": "2024-06-20T14:06:51.537641Z"
    },
    "papermill": {
     "duration": 50.98053,
     "end_time": "2024-06-20T14:06:51.542681",
     "exception": false,
     "start_time": "2024-06-20T14:06:00.562151",
     "status": "completed"
    },
    "tags": []
   },
   "outputs": [],
   "source": [
    "import os\n",
    "import time\n",
    "\n",
    "# Essential DS libraries\n",
    "import numpy as np\n",
    "import pandas as pd\n",
    "from sklearn.metrics import mean_absolute_error\n",
    "from sklearn.model_selection import train_test_split\n",
    "from sklearn.metrics import accuracy_score\n",
    "import torch\n",
    "\n",
    "from sklearn.preprocessing import LabelEncoder\n",
    "\n",
    "# LightAutoML presets, task and report generation\n",
    "from lightautoml.automl.presets.tabular_presets import TabularAutoML\n",
    "from lightautoml.tasks import Task\n",
    "from lightautoml.automl.base import AutoML\n",
    "from lightautoml.ml_algo.boost_lgbm import BoostLGBM\n",
    "from lightautoml.ml_algo.tuning.optuna import OptunaTuner\n",
    "from lightautoml.pipelines.features.lgb_pipeline import LGBSimpleFeatures\n",
    "from lightautoml.pipelines.ml.base import MLPipeline\n",
    "from lightautoml.pipelines.selection.importance_based import ImportanceCutoffSelector,ModelBasedImportanceEstimator\n",
    "from lightautoml.reader.base import PandasToPandasReader\n",
    "from lightautoml.tasks import Task\n",
    "from lightautoml.automl.blend import WeightedBlender"
   ]
  },
  {
   "cell_type": "code",
   "execution_count": 3,
   "id": "c4e2558c",
   "metadata": {
    "execution": {
     "iopub.execute_input": "2024-06-20T14:06:51.561457Z",
     "iopub.status.busy": "2024-06-20T14:06:51.560397Z",
     "iopub.status.idle": "2024-06-20T14:06:51.567617Z",
     "shell.execute_reply": "2024-06-20T14:06:51.566217Z"
    },
    "papermill": {
     "duration": 0.019429,
     "end_time": "2024-06-20T14:06:51.570283",
     "exception": false,
     "start_time": "2024-06-20T14:06:51.550854",
     "status": "completed"
    },
    "tags": []
   },
   "outputs": [],
   "source": [
    "N_THREADS = 4\n",
    "N_FOLDS = 20\n",
    "RANDOM_STATE = 42\n",
    "TEST_SIZE = 0.2\n",
    "TIMEOUT = 5*60*60 \n",
    "TARGET_NAME = 'Target'"
   ]
  },
  {
   "cell_type": "code",
   "execution_count": 4,
   "id": "91533d93",
   "metadata": {
    "execution": {
     "iopub.execute_input": "2024-06-20T14:06:51.587684Z",
     "iopub.status.busy": "2024-06-20T14:06:51.587237Z",
     "iopub.status.idle": "2024-06-20T14:06:52.345375Z",
     "shell.execute_reply": "2024-06-20T14:06:52.344023Z"
    },
    "papermill": {
     "duration": 0.770758,
     "end_time": "2024-06-20T14:06:52.348615",
     "exception": false,
     "start_time": "2024-06-20T14:06:51.577857",
     "status": "completed"
    },
    "tags": []
   },
   "outputs": [],
   "source": [
    "train = pd.read_csv('/kaggle/input/playground-series-s4e6/train.csv')\n",
    "test = pd.read_csv('/kaggle/input/playground-series-s4e6/test.csv')"
   ]
  },
  {
   "cell_type": "code",
   "execution_count": 5,
   "id": "4333524f",
   "metadata": {
    "execution": {
     "iopub.execute_input": "2024-06-20T14:06:52.366645Z",
     "iopub.status.busy": "2024-06-20T14:06:52.366103Z",
     "iopub.status.idle": "2024-06-20T14:06:52.560995Z",
     "shell.execute_reply": "2024-06-20T14:06:52.559518Z"
    },
    "papermill": {
     "duration": 0.20944,
     "end_time": "2024-06-20T14:06:52.565972",
     "exception": false,
     "start_time": "2024-06-20T14:06:52.356532",
     "status": "completed"
    },
    "tags": []
   },
   "outputs": [
    {
     "name": "stdout",
     "output_type": "stream",
     "text": [
      "CPU times: user 171 ms, sys: 5.9 ms, total: 177 ms\n",
      "Wall time: 186 ms\n"
     ]
    }
   ],
   "source": [
    "%%time\n",
    "train_data, test_data = train_test_split(train,\n",
    "test_size=TEST_SIZE,\n",
    "stratify=train[TARGET_NAME],\n",
    "random_state=RANDOM_STATE)"
   ]
  },
  {
   "cell_type": "code",
   "execution_count": 6,
   "id": "40670a00",
   "metadata": {
    "execution": {
     "iopub.execute_input": "2024-06-20T14:06:52.584748Z",
     "iopub.status.busy": "2024-06-20T14:06:52.584185Z",
     "iopub.status.idle": "2024-06-20T14:06:52.599773Z",
     "shell.execute_reply": "2024-06-20T14:06:52.598131Z"
    },
    "papermill": {
     "duration": 0.028708,
     "end_time": "2024-06-20T14:06:52.603100",
     "exception": false,
     "start_time": "2024-06-20T14:06:52.574392",
     "status": "completed"
    },
    "tags": []
   },
   "outputs": [],
   "source": [
    "task = Task('multiclass')\n",
    "reader = PandasToPandasReader(task, cv=N_FOLDS, random_state=RANDOM_STATE)"
   ]
  },
  {
   "cell_type": "code",
   "execution_count": 7,
   "id": "db2e97cf",
   "metadata": {
    "execution": {
     "iopub.execute_input": "2024-06-20T14:06:52.622385Z",
     "iopub.status.busy": "2024-06-20T14:06:52.621871Z",
     "iopub.status.idle": "2024-06-20T14:06:52.630693Z",
     "shell.execute_reply": "2024-06-20T14:06:52.629430Z"
    },
    "papermill": {
     "duration": 0.021769,
     "end_time": "2024-06-20T14:06:52.633588",
     "exception": false,
     "start_time": "2024-06-20T14:06:52.611819",
     "status": "completed"
    },
    "tags": []
   },
   "outputs": [
    {
     "name": "stdout",
     "output_type": "stream",
     "text": [
      "CPU times: user 403 µs, sys: 0 ns, total: 403 µs\n",
      "Wall time: 409 µs\n"
     ]
    }
   ],
   "source": [
    " %%time\n",
    "model0 = BoostLGBM(\n",
    "default_params={'learning_rate': 0.05, 'num_leaves': 78, 'seed': 42, 'num_threads':N_THREADS}\n",
    ")\n",
    "pipe0 = LGBSimpleFeatures()\n",
    "mbie = ModelBasedImportanceEstimator()\n",
    "selector = ImportanceCutoffSelector(pipe0, model0, mbie, cutoff=0)"
   ]
  },
  {
   "cell_type": "code",
   "execution_count": 8,
   "id": "d4113b65",
   "metadata": {
    "execution": {
     "iopub.execute_input": "2024-06-20T14:06:52.653017Z",
     "iopub.status.busy": "2024-06-20T14:06:52.652469Z",
     "iopub.status.idle": "2024-06-20T14:06:52.661289Z",
     "shell.execute_reply": "2024-06-20T14:06:52.659873Z"
    },
    "papermill": {
     "duration": 0.02205,
     "end_time": "2024-06-20T14:06:52.664308",
     "exception": false,
     "start_time": "2024-06-20T14:06:52.642258",
     "status": "completed"
    },
    "tags": []
   },
   "outputs": [],
   "source": [
    "pipe = LGBSimpleFeatures()\n",
    "params_tuner1 = OptunaTuner(n_trials=100, timeout=3000) # stop after 20 iterations or after30 seconds\n",
    "model1 = BoostLGBM(\n",
    "default_params={'learning_rate': 0.05, 'num_leaves': 128, 'seed': 1, 'num_threads':N_THREADS}\n",
    ")\n",
    "model2 = BoostLGBM(\n",
    "default_params={'learning_rate': 0.025, 'num_leaves': 64, 'seed': 2, 'num_threads':N_THREADS}\n",
    ")\n",
    "pipeline_lvl1 = MLPipeline([\n",
    "(model1, params_tuner1),\n",
    "model2\n",
    "], pre_selection=selector, features_pipeline=pipe, post_selection=None)"
   ]
  },
  {
   "cell_type": "code",
   "execution_count": 9,
   "id": "1eb06ebb",
   "metadata": {
    "execution": {
     "iopub.execute_input": "2024-06-20T14:06:52.682885Z",
     "iopub.status.busy": "2024-06-20T14:06:52.682365Z",
     "iopub.status.idle": "2024-06-20T14:06:52.691612Z",
     "shell.execute_reply": "2024-06-20T14:06:52.690116Z"
    },
    "papermill": {
     "duration": 0.022479,
     "end_time": "2024-06-20T14:06:52.695058",
     "exception": false,
     "start_time": "2024-06-20T14:06:52.672579",
     "status": "completed"
    },
    "tags": []
   },
   "outputs": [
    {
     "name": "stdout",
     "output_type": "stream",
     "text": [
      "CPU times: user 97 µs, sys: 5 µs, total: 102 µs\n",
      "Wall time: 108 µs\n"
     ]
    }
   ],
   "source": [
    "%%time\n",
    "pipe1 = LGBSimpleFeatures()\n",
    "model = BoostLGBM(\n",
    "default_params={'learning_rate': 0.05, 'num_leaves': 64, 'max_bin': 1024, 'seed': 3,'num_threads': N_THREADS},\n",
    "freeze_defaults=True\n",
    ")\n",
    "pipeline_lvl2 = MLPipeline([model], pre_selection=None, features_pipeline=pipe1, post_selection=None)"
   ]
  },
  {
   "cell_type": "code",
   "execution_count": 10,
   "id": "7699c4fb",
   "metadata": {
    "execution": {
     "iopub.execute_input": "2024-06-20T14:06:52.716940Z",
     "iopub.status.busy": "2024-06-20T14:06:52.716378Z",
     "iopub.status.idle": "2024-06-20T14:06:52.724597Z",
     "shell.execute_reply": "2024-06-20T14:06:52.723245Z"
    },
    "papermill": {
     "duration": 0.024187,
     "end_time": "2024-06-20T14:06:52.727610",
     "exception": false,
     "start_time": "2024-06-20T14:06:52.703423",
     "status": "completed"
    },
    "tags": []
   },
   "outputs": [
    {
     "name": "stdout",
     "output_type": "stream",
     "text": [
      "CPU times: user 57 µs, sys: 3 µs, total: 60 µs\n",
      "Wall time: 65.3 µs\n"
     ]
    }
   ],
   "source": [
    " %%time\n",
    "automl = AutoML(reader, [\n",
    "[pipeline_lvl1],\n",
    "[pipeline_lvl2],\n",
    "], skip_conn=False)"
   ]
  },
  {
   "cell_type": "code",
   "execution_count": 11,
   "id": "53bd0cc3",
   "metadata": {
    "execution": {
     "iopub.execute_input": "2024-06-20T14:06:52.747644Z",
     "iopub.status.busy": "2024-06-20T14:06:52.746032Z",
     "iopub.status.idle": "2024-06-20T14:35:25.193093Z",
     "shell.execute_reply": "2024-06-20T14:35:25.191401Z"
    },
    "papermill": {
     "duration": 1712.474948,
     "end_time": "2024-06-20T14:35:25.210990",
     "exception": false,
     "start_time": "2024-06-20T14:06:52.736042",
     "status": "completed"
    },
    "tags": []
   },
   "outputs": [
    {
     "name": "stdout",
     "output_type": "stream",
     "text": [
      "oof_pred:\n",
      "array([[0.9112515 , 0.03437404, 0.05437445],\n",
      "       [0.00329686, 0.98463106, 0.01207209],\n",
      "       [0.8570297 , 0.06512046, 0.07784985],\n",
      "       ...,\n",
      "       [0.8357799 , 0.02477043, 0.13944964],\n",
      "       [0.66141105, 0.08205832, 0.25653064],\n",
      "       [0.00748962, 0.89495575, 0.0975546 ]], dtype=float32)\n",
      "Shape = (61214, 3)\n",
      "CPU times: user 1h 48min 58s, sys: 1min 24s, total: 1h 50min 22s\n",
      "Wall time: 28min 32s\n"
     ]
    }
   ],
   "source": [
    " %%time\n",
    "oof_pred = automl.fit_predict(train_data, roles={'target': TARGET_NAME,'drop': ['id']})\n",
    "print('oof_pred:\\n{}\\nShape = {}'.format(oof_pred, oof_pred.shape))\n"
   ]
  },
  {
   "cell_type": "code",
   "execution_count": 12,
   "id": "64a2673e",
   "metadata": {
    "execution": {
     "iopub.execute_input": "2024-06-20T14:35:25.230209Z",
     "iopub.status.busy": "2024-06-20T14:35:25.229688Z",
     "iopub.status.idle": "2024-06-20T14:35:25.295869Z",
     "shell.execute_reply": "2024-06-20T14:35:25.294682Z"
    },
    "papermill": {
     "duration": 0.07975,
     "end_time": "2024-06-20T14:35:25.298791",
     "exception": false,
     "start_time": "2024-06-20T14:35:25.219041",
     "status": "completed"
    },
    "tags": []
   },
   "outputs": [
    {
     "name": "stdout",
     "output_type": "stream",
     "text": [
      "Feature importances of selector:\n",
      "Curricular units 2nd sem (approved)               260680.312033\n",
      "Curricular units 1st sem (approved)                75381.769048\n",
      "Curricular units 2nd sem (grade)                   70587.104404\n",
      "Curricular units 2nd sem (evaluations)             30740.492733\n",
      "Tuition fees up to date                            22856.546170\n",
      "Curricular units 1st sem (grade)                   17384.426910\n",
      "Admission grade                                    16707.729537\n",
      "Curricular units 1st sem (evaluations)             12817.875477\n",
      "Course                                             11800.132346\n",
      "Curricular units 2nd sem (enrolled)                11047.054627\n",
      "Age at enrollment                                  10469.078682\n",
      "Previous qualification (grade)                     10053.551858\n",
      "Scholarship holder                                  9775.860710\n",
      "Father's occupation                                 7254.622168\n",
      "Mother's occupation                                 6061.635454\n",
      "GDP                                                 5900.449050\n",
      "Curricular units 1st sem (enrolled)                 5854.340258\n",
      "Unemployment rate                                   5025.346973\n",
      "Application mode                                    4729.615430\n",
      "Mother's qualification                              3945.714166\n",
      "Father's qualification                              3911.587716\n",
      "Debtor                                              3645.055208\n",
      "Inflation rate                                      3636.460282\n",
      "Gender                                              2891.112786\n",
      "Application order                                   2851.560394\n",
      "Previous qualification                              1002.487869\n",
      "Displaced                                            848.087719\n",
      "Curricular units 2nd sem (credited)                  805.281273\n",
      "Curricular units 1st sem (credited)                  757.759970\n",
      "Daytime/evening attendance                           447.746851\n",
      "Curricular units 2nd sem (without evaluations)       417.971760\n",
      "Marital status                                       403.439940\n",
      "Curricular units 1st sem (without evaluations)       328.275720\n",
      "dtype: float64\n",
      "======================================================================\n",
      "Feature importances of top level algorithm:\n",
      "Lvl_0_Pipe_0_Mod_1_LightGBM_prediction_1    138875.728254\n",
      "Lvl_0_Pipe_0_Mod_1_LightGBM_prediction_0    105400.012953\n",
      "Lvl_0_Pipe_0_Mod_0_LightGBM_prediction_0    103430.069310\n",
      "Lvl_0_Pipe_0_Mod_0_LightGBM_prediction_1     93552.158280\n",
      "Lvl_0_Pipe_0_Mod_0_LightGBM_prediction_2     62909.131144\n",
      "Lvl_0_Pipe_0_Mod_1_LightGBM_prediction_2     49034.958276\n",
      "dtype: float64\n",
      "======================================================================\n",
      "Feature importances of lowest level algorithm - model 0:\n",
      "ord__Curricular units 2nd sem (approved)          210347.311729\n",
      "ord__Curricular units 2nd sem (grade)              86963.795964\n",
      "ord__Curricular units 1st sem (approved)           55974.546836\n",
      "ord__Curricular units 2nd sem (evaluations)        26105.505695\n",
      "Tuition fees up to date                            20963.515091\n",
      "ord__Curricular units 1st sem (grade)              20032.448082\n",
      "ord__Curricular units 1st sem (evaluations)        15185.299585\n",
      "ord__Admission grade                               14361.686450\n",
      "ord__Course                                        11422.405134\n",
      "Scholarship holder                                  9874.592035\n",
      "ord__Age at enrollment                              9337.264454\n",
      "Curricular units 2nd sem (enrolled)                 9278.696549\n",
      "ord__Previous qualification (grade)                 9256.547946\n",
      "Curricular units 1st sem (enrolled)                 7430.513981\n",
      "Father's occupation                                 6390.274288\n",
      "Mother's occupation                                 5392.277702\n",
      "GDP                                                 5202.131428\n",
      "ord__Application mode                               4665.337665\n",
      "Unemployment rate                                   4502.326553\n",
      "Debtor                                              3773.432004\n",
      "ord__Mother's qualification                         3757.402469\n",
      "Inflation rate                                      3541.888030\n",
      "Father's qualification                              3511.339712\n",
      "Gender                                              3195.641656\n",
      "Application order                                   2394.026983\n",
      "Previous qualification                              1121.826016\n",
      "Displaced                                            918.967559\n",
      "Curricular units 2nd sem (credited)                  824.677715\n",
      "Curricular units 1st sem (credited)                  796.307432\n",
      "Curricular units 2nd sem (without evaluations)       452.284389\n",
      "Marital status                                       450.874902\n",
      "Daytime/evening attendance                           444.654917\n",
      "Curricular units 1st sem (without evaluations)       361.890137\n",
      "dtype: float64\n",
      "======================================================================\n",
      "Feature importances of lowest level algorithm - model 1:\n",
      "ord__Curricular units 2nd sem (approved)          546753.496877\n",
      "ord__Curricular units 2nd sem (grade)             128644.145748\n",
      "ord__Curricular units 1st sem (approved)          123992.779713\n",
      "ord__Curricular units 2nd sem (evaluations)        53226.995586\n",
      "Tuition fees up to date                            48782.374620\n",
      "ord__Curricular units 1st sem (grade)              37786.142055\n",
      "ord__Admission grade                               34936.374389\n",
      "ord__Curricular units 1st sem (evaluations)        32285.928480\n",
      "ord__Course                                        25091.134007\n",
      "Curricular units 2nd sem (enrolled)                22612.113608\n",
      "ord__Previous qualification (grade)                22443.206041\n",
      "ord__Age at enrollment                             21566.560166\n",
      "Scholarship holder                                 18450.430583\n",
      "Father's occupation                                15021.035740\n",
      "Curricular units 1st sem (enrolled)                13014.194676\n",
      "Mother's occupation                                12525.438129\n",
      "GDP                                                12137.385541\n",
      "Unemployment rate                                  10764.627912\n",
      "ord__Application mode                               9949.846427\n",
      "ord__Mother's qualification                         8514.095172\n",
      "Father's qualification                              8245.068831\n",
      "Inflation rate                                      7658.238868\n",
      "Debtor                                              5998.238810\n",
      "Gender                                              5829.518019\n",
      "Application order                                   5661.057471\n",
      "Previous qualification                              2204.711780\n",
      "Displaced                                           2031.697565\n",
      "Curricular units 1st sem (credited)                 1782.640980\n",
      "Curricular units 2nd sem (credited)                 1675.959604\n",
      "Curricular units 2nd sem (without evaluations)      1020.521601\n",
      "Marital status                                       912.474929\n",
      "Curricular units 1st sem (without evaluations)       861.453542\n",
      "Daytime/evening attendance                           859.068399\n",
      "dtype: float64\n",
      "======================================================================\n",
      "CPU times: user 56.1 ms, sys: 995 µs, total: 57.1 ms\n",
      "Wall time: 56.4 ms\n"
     ]
    }
   ],
   "source": [
    "%%time\n",
    "print('Feature importances of selector:\\n{}'\n",
    ".format(selector.get_features_score()))\n",
    "print('=' * 70)\n",
    "print('Feature importances of top level algorithm:\\n{}'\n",
    ".format(automl.levels[-1][0].ml_algos[0].get_features_score()))\n",
    "print('=' * 70)\n",
    "print('Feature importances of lowest level algorithm - model 0:\\n{}'\n",
    ".format(automl.levels[0][0].ml_algos[0].get_features_score()))\n",
    "print('=' * 70)\n",
    "print('Feature importances of lowest level algorithm - model 1:\\n{}'\n",
    ".format(automl.levels[0][0].ml_algos[1].get_features_score()))\n",
    "print('=' * 70)\n"
   ]
  },
  {
   "cell_type": "code",
   "execution_count": 13,
   "id": "b6230d62",
   "metadata": {
    "execution": {
     "iopub.execute_input": "2024-06-20T14:35:25.318757Z",
     "iopub.status.busy": "2024-06-20T14:35:25.317433Z",
     "iopub.status.idle": "2024-06-20T14:35:25.322887Z",
     "shell.execute_reply": "2024-06-20T14:35:25.321710Z"
    },
    "papermill": {
     "duration": 0.018189,
     "end_time": "2024-06-20T14:35:25.325720",
     "exception": false,
     "start_time": "2024-06-20T14:35:25.307531",
     "status": "completed"
    },
    "tags": []
   },
   "outputs": [],
   "source": [
    "# print(automl.create_model_str_desc())"
   ]
  },
  {
   "cell_type": "code",
   "execution_count": 14,
   "id": "ff1dab54",
   "metadata": {
    "execution": {
     "iopub.execute_input": "2024-06-20T14:35:25.344987Z",
     "iopub.status.busy": "2024-06-20T14:35:25.343833Z",
     "iopub.status.idle": "2024-06-20T14:36:00.444003Z",
     "shell.execute_reply": "2024-06-20T14:36:00.442764Z"
    },
    "papermill": {
     "duration": 35.114406,
     "end_time": "2024-06-20T14:36:00.448462",
     "exception": false,
     "start_time": "2024-06-20T14:35:25.334056",
     "status": "completed"
    },
    "tags": []
   },
   "outputs": [
    {
     "name": "stdout",
     "output_type": "stream",
     "text": [
      "CPU times: user 2min 16s, sys: 104 ms, total: 2min 16s\n",
      "Wall time: 35.1 s\n"
     ]
    },
    {
     "data": {
      "text/plain": [
       "array([[0.00933286, 0.9864626 , 0.00420451],\n",
       "       [0.9561636 , 0.015925  , 0.02791139],\n",
       "       [0.02271964, 0.92311734, 0.054163  ],\n",
       "       ...,\n",
       "       [0.00718003, 0.9765776 , 0.01624238],\n",
       "       [0.02236639, 0.6327946 , 0.34483898],\n",
       "       [0.9873146 , 0.00790529, 0.00478013]], dtype=float32)"
      ]
     },
     "execution_count": 14,
     "metadata": {},
     "output_type": "execute_result"
    }
   ],
   "source": [
    "%%time\n",
    "test_pred = automl.predict(test_data)\n",
    "test_pred"
   ]
  },
  {
   "cell_type": "code",
   "execution_count": 15,
   "id": "70f474b9",
   "metadata": {
    "execution": {
     "iopub.execute_input": "2024-06-20T14:36:00.468190Z",
     "iopub.status.busy": "2024-06-20T14:36:00.467758Z",
     "iopub.status.idle": "2024-06-20T14:36:00.504709Z",
     "shell.execute_reply": "2024-06-20T14:36:00.503166Z"
    },
    "papermill": {
     "duration": 0.050226,
     "end_time": "2024-06-20T14:36:00.507629",
     "exception": false,
     "start_time": "2024-06-20T14:36:00.457403",
     "status": "completed"
    },
    "tags": []
   },
   "outputs": [
    {
     "name": "stdout",
     "output_type": "stream",
     "text": [
      "CPU times: user 29.9 ms, sys: 6 µs, total: 29.9 ms\n",
      "Wall time: 28.9 ms\n"
     ]
    }
   ],
   "source": [
    "%%time\n",
    "class_mapping = {0:'Graduate', 1:'Dropout', 2:'Enrolled'}\n",
    "te_pred = np.argmax(np.array(test_pred.data),axis=1)\n",
    "final_test_pred = [class_mapping[value] for value in te_pred]\n",
    "\n",
    "oof_pred_ = np.argmax(np.array(oof_pred.data),axis=1)\n",
    "final_oof_pred = [class_mapping[value] for value in oof_pred_]"
   ]
  },
  {
   "cell_type": "code",
   "execution_count": 16,
   "id": "6d0663a3",
   "metadata": {
    "execution": {
     "iopub.execute_input": "2024-06-20T14:36:00.527623Z",
     "iopub.status.busy": "2024-06-20T14:36:00.527138Z",
     "iopub.status.idle": "2024-06-20T14:36:00.755299Z",
     "shell.execute_reply": "2024-06-20T14:36:00.753765Z"
    },
    "papermill": {
     "duration": 0.241156,
     "end_time": "2024-06-20T14:36:00.758064",
     "exception": false,
     "start_time": "2024-06-20T14:36:00.516908",
     "status": "completed"
    },
    "tags": []
   },
   "outputs": [
    {
     "name": "stdout",
     "output_type": "stream",
     "text": [
      "Prediction for test data:\n",
      "array([[0.00933286, 0.9864626 , 0.00420451],\n",
      "       [0.9561636 , 0.015925  , 0.02791139],\n",
      "       [0.02271964, 0.92311734, 0.054163  ],\n",
      "       ...,\n",
      "       [0.00718003, 0.9765776 , 0.01624238],\n",
      "       [0.02236639, 0.6327946 , 0.34483898],\n",
      "       [0.9873146 , 0.00790529, 0.00478013]], dtype=float32)\n",
      "Shape = (15304, 3)\n",
      "Check scores...\n",
      "OOF score: 0.8316888293527624\n",
      "TEST score: 0.8314166231050706\n",
      "CPU times: user 220 ms, sys: 3.02 ms, total: 223 ms\n",
      "Wall time: 221 ms\n"
     ]
    }
   ],
   "source": [
    " %%time\n",
    "#test_pred = automl.predict(test_data)\n",
    "print('Prediction for test data:\\n{}\\nShape = {}'\n",
    ".format(test_pred, test_pred.shape))\n",
    "print('Check scores...')\n",
    "print('OOF score: {}'.format(accuracy_score(train_data[TARGET_NAME].values, final_oof_pred)))\n",
    "print('TEST score: {}'.format(accuracy_score(test_data[TARGET_NAME].values, final_test_pred)))\n"
   ]
  },
  {
   "cell_type": "markdown",
   "id": "e5e550f7",
   "metadata": {
    "papermill": {
     "duration": 0.008577,
     "end_time": "2024-06-20T14:36:00.775694",
     "exception": false,
     "start_time": "2024-06-20T14:36:00.767117",
     "status": "completed"
    },
    "tags": []
   },
   "source": [
    "## Final Prediction on test set"
   ]
  },
  {
   "cell_type": "code",
   "execution_count": 17,
   "id": "d1fe6fa0",
   "metadata": {
    "execution": {
     "iopub.execute_input": "2024-06-20T14:36:00.796019Z",
     "iopub.status.busy": "2024-06-20T14:36:00.795266Z",
     "iopub.status.idle": "2024-06-20T14:37:59.436943Z",
     "shell.execute_reply": "2024-06-20T14:37:59.435730Z"
    },
    "papermill": {
     "duration": 118.655713,
     "end_time": "2024-06-20T14:37:59.440520",
     "exception": false,
     "start_time": "2024-06-20T14:36:00.784807",
     "status": "completed"
    },
    "tags": []
   },
   "outputs": [
    {
     "name": "stdout",
     "output_type": "stream",
     "text": [
      "CPU times: user 7min 37s, sys: 390 ms, total: 7min 38s\n",
      "Wall time: 1min 58s\n"
     ]
    }
   ],
   "source": [
    "%%time\n",
    "preds = automl.predict(test)"
   ]
  },
  {
   "cell_type": "code",
   "execution_count": 18,
   "id": "757433cf",
   "metadata": {
    "execution": {
     "iopub.execute_input": "2024-06-20T14:37:59.461063Z",
     "iopub.status.busy": "2024-06-20T14:37:59.460110Z",
     "iopub.status.idle": "2024-06-20T14:37:59.468846Z",
     "shell.execute_reply": "2024-06-20T14:37:59.467489Z"
    },
    "papermill": {
     "duration": 0.02175,
     "end_time": "2024-06-20T14:37:59.471383",
     "exception": false,
     "start_time": "2024-06-20T14:37:59.449633",
     "status": "completed"
    },
    "tags": []
   },
   "outputs": [
    {
     "name": "stdout",
     "output_type": "stream",
     "text": [
      "CPU times: user 1.24 ms, sys: 1 ms, total: 2.24 ms\n",
      "Wall time: 1.5 ms\n"
     ]
    }
   ],
   "source": [
    "%%time\n",
    "final_preds = np.argmax(np.array(preds.data),axis=1)"
   ]
  },
  {
   "cell_type": "code",
   "execution_count": 19,
   "id": "7d7c8104",
   "metadata": {
    "execution": {
     "iopub.execute_input": "2024-06-20T14:37:59.492627Z",
     "iopub.status.busy": "2024-06-20T14:37:59.492192Z",
     "iopub.status.idle": "2024-06-20T14:37:59.519461Z",
     "shell.execute_reply": "2024-06-20T14:37:59.517886Z"
    },
    "papermill": {
     "duration": 0.041924,
     "end_time": "2024-06-20T14:37:59.522625",
     "exception": false,
     "start_time": "2024-06-20T14:37:59.480701",
     "status": "completed"
    },
    "tags": []
   },
   "outputs": [
    {
     "name": "stdout",
     "output_type": "stream",
     "text": [
      "CPU times: user 18.3 ms, sys: 1.93 ms, total: 20.2 ms\n",
      "Wall time: 19.7 ms\n"
     ]
    }
   ],
   "source": [
    "%%time\n",
    "final_prediction = [class_mapping[value] for value in final_preds]"
   ]
  },
  {
   "cell_type": "code",
   "execution_count": 20,
   "id": "2c32ebac",
   "metadata": {
    "execution": {
     "iopub.execute_input": "2024-06-20T14:37:59.544743Z",
     "iopub.status.busy": "2024-06-20T14:37:59.543582Z",
     "iopub.status.idle": "2024-06-20T14:37:59.718974Z",
     "shell.execute_reply": "2024-06-20T14:37:59.717573Z"
    },
    "papermill": {
     "duration": 0.189656,
     "end_time": "2024-06-20T14:37:59.721830",
     "exception": false,
     "start_time": "2024-06-20T14:37:59.532174",
     "status": "completed"
    },
    "tags": []
   },
   "outputs": [
    {
     "name": "stdout",
     "output_type": "stream",
     "text": [
      "CPU times: user 126 ms, sys: 7 ms, total: 133 ms\n",
      "Wall time: 156 ms\n"
     ]
    },
    {
     "data": {
      "text/html": [
       "<div>\n",
       "<style scoped>\n",
       "    .dataframe tbody tr th:only-of-type {\n",
       "        vertical-align: middle;\n",
       "    }\n",
       "\n",
       "    .dataframe tbody tr th {\n",
       "        vertical-align: top;\n",
       "    }\n",
       "\n",
       "    .dataframe thead th {\n",
       "        text-align: right;\n",
       "    }\n",
       "</style>\n",
       "<table border=\"1\" class=\"dataframe\">\n",
       "  <thead>\n",
       "    <tr style=\"text-align: right;\">\n",
       "      <th></th>\n",
       "      <th>id</th>\n",
       "      <th>Target</th>\n",
       "    </tr>\n",
       "  </thead>\n",
       "  <tbody>\n",
       "    <tr>\n",
       "      <th>0</th>\n",
       "      <td>76518</td>\n",
       "      <td>Dropout</td>\n",
       "    </tr>\n",
       "    <tr>\n",
       "      <th>1</th>\n",
       "      <td>76519</td>\n",
       "      <td>Graduate</td>\n",
       "    </tr>\n",
       "    <tr>\n",
       "      <th>2</th>\n",
       "      <td>76520</td>\n",
       "      <td>Graduate</td>\n",
       "    </tr>\n",
       "    <tr>\n",
       "      <th>3</th>\n",
       "      <td>76521</td>\n",
       "      <td>Graduate</td>\n",
       "    </tr>\n",
       "    <tr>\n",
       "      <th>4</th>\n",
       "      <td>76522</td>\n",
       "      <td>Enrolled</td>\n",
       "    </tr>\n",
       "    <tr>\n",
       "      <th>...</th>\n",
       "      <td>...</td>\n",
       "      <td>...</td>\n",
       "    </tr>\n",
       "    <tr>\n",
       "      <th>51007</th>\n",
       "      <td>127525</td>\n",
       "      <td>Dropout</td>\n",
       "    </tr>\n",
       "    <tr>\n",
       "      <th>51008</th>\n",
       "      <td>127526</td>\n",
       "      <td>Dropout</td>\n",
       "    </tr>\n",
       "    <tr>\n",
       "      <th>51009</th>\n",
       "      <td>127527</td>\n",
       "      <td>Dropout</td>\n",
       "    </tr>\n",
       "    <tr>\n",
       "      <th>51010</th>\n",
       "      <td>127528</td>\n",
       "      <td>Dropout</td>\n",
       "    </tr>\n",
       "    <tr>\n",
       "      <th>51011</th>\n",
       "      <td>127529</td>\n",
       "      <td>Dropout</td>\n",
       "    </tr>\n",
       "  </tbody>\n",
       "</table>\n",
       "<p>51012 rows × 2 columns</p>\n",
       "</div>"
      ],
      "text/plain": [
       "           id    Target\n",
       "0       76518   Dropout\n",
       "1       76519  Graduate\n",
       "2       76520  Graduate\n",
       "3       76521  Graduate\n",
       "4       76522  Enrolled\n",
       "...       ...       ...\n",
       "51007  127525   Dropout\n",
       "51008  127526   Dropout\n",
       "51009  127527   Dropout\n",
       "51010  127528   Dropout\n",
       "51011  127529   Dropout\n",
       "\n",
       "[51012 rows x 2 columns]"
      ]
     },
     "execution_count": 20,
     "metadata": {},
     "output_type": "execute_result"
    }
   ],
   "source": [
    "%%time\n",
    "submit = pd.read_csv('/kaggle/input/playground-series-s4e6/sample_submission.csv')\n",
    "submit.Target = final_prediction\n",
    "submit.to_csv('submission.csv',index=False)\n",
    "submit"
   ]
  }
 ],
 "metadata": {
  "kaggle": {
   "accelerator": "none",
   "dataSources": [
    {
     "databundleVersionId": 8710574,
     "sourceId": 73290,
     "sourceType": "competition"
    }
   ],
   "dockerImageVersionId": 30732,
   "isGpuEnabled": false,
   "isInternetEnabled": true,
   "language": "python",
   "sourceType": "notebook"
  },
  "kernelspec": {
   "display_name": "Python 3",
   "language": "python",
   "name": "python3"
  },
  "language_info": {
   "codemirror_mode": {
    "name": "ipython",
    "version": 3
   },
   "file_extension": ".py",
   "mimetype": "text/x-python",
   "name": "python",
   "nbconvert_exporter": "python",
   "pygments_lexer": "ipython3",
   "version": "3.10.13"
  },
  "papermill": {
   "default_parameters": {},
   "duration": 2119.366847,
   "end_time": "2024-06-20T14:38:02.465973",
   "environment_variables": {},
   "exception": null,
   "input_path": "__notebook__.ipynb",
   "output_path": "__notebook__.ipynb",
   "parameters": {},
   "start_time": "2024-06-20T14:02:43.099126",
   "version": "2.5.0"
  }
 },
 "nbformat": 4,
 "nbformat_minor": 5
}
